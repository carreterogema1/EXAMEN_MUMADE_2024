{
  "nbformat": 4,
  "nbformat_minor": 0,
  "metadata": {
    "colab": {
      "provenance": []
    },
    "kernelspec": {
      "name": "python3",
      "display_name": "Python 3"
    },
    "language_info": {
      "name": "python"
    }
  },
  "cells": [
    {
      "cell_type": "markdown",
      "source": [
        "# GEMA CARRETERO RIVAS\n",
        "Problema 1 y 3"
      ],
      "metadata": {
        "id": "gtrpeNQVCLI1"
      }
    },
    {
      "cell_type": "markdown",
      "source": [
        "Cargamos la extensión (magic) que nos permite utilizar SQL:"
      ],
      "metadata": {
        "id": "oApnfo_zDvME"
      }
    },
    {
      "cell_type": "code",
      "source": [
        "%load_ext sql"
      ],
      "metadata": {
        "id": "ezK3ChXaC8rj",
        "colab": {
          "base_uri": "https://localhost:8080/"
        },
        "outputId": "8e9c9cc0-7a49-448c-ead8-faf7abd3e2c6"
      },
      "execution_count": 105,
      "outputs": [
        {
          "output_type": "stream",
          "name": "stdout",
          "text": [
            "The sql extension is already loaded. To reload it, use:\n",
            "  %reload_ext sql\n"
          ]
        }
      ]
    },
    {
      "cell_type": "markdown",
      "source": [
        "Descargamos el fichero que corresponde a nuestra base de datos."
      ],
      "metadata": {
        "id": "aZuKFibqDROq"
      }
    },
    {
      "cell_type": "code",
      "source": [
        "!pip install gdown==4.6.3\n",
        "!gdown 1Osmr7qVN0NMuqYxvLesNn7H4nqPCVbsU"
      ],
      "metadata": {
        "colab": {
          "base_uri": "https://localhost:8080/"
        },
        "id": "Oog0yWuIC_rW",
        "outputId": "5fb163ab-e3e9-4016-a43a-8a46f05d54e1"
      },
      "execution_count": 106,
      "outputs": [
        {
          "output_type": "stream",
          "name": "stdout",
          "text": [
            "Requirement already satisfied: gdown==4.6.3 in /usr/local/lib/python3.10/dist-packages (4.6.3)\n",
            "Requirement already satisfied: filelock in /usr/local/lib/python3.10/dist-packages (from gdown==4.6.3) (3.13.1)\n",
            "Requirement already satisfied: requests[socks] in /usr/local/lib/python3.10/dist-packages (from gdown==4.6.3) (2.31.0)\n",
            "Requirement already satisfied: six in /usr/local/lib/python3.10/dist-packages (from gdown==4.6.3) (1.16.0)\n",
            "Requirement already satisfied: tqdm in /usr/local/lib/python3.10/dist-packages (from gdown==4.6.3) (4.66.1)\n",
            "Requirement already satisfied: beautifulsoup4 in /usr/local/lib/python3.10/dist-packages (from gdown==4.6.3) (4.11.2)\n",
            "Requirement already satisfied: soupsieve>1.2 in /usr/local/lib/python3.10/dist-packages (from beautifulsoup4->gdown==4.6.3) (2.5)\n",
            "Requirement already satisfied: charset-normalizer<4,>=2 in /usr/local/lib/python3.10/dist-packages (from requests[socks]->gdown==4.6.3) (3.3.2)\n",
            "Requirement already satisfied: idna<4,>=2.5 in /usr/local/lib/python3.10/dist-packages (from requests[socks]->gdown==4.6.3) (3.6)\n",
            "Requirement already satisfied: urllib3<3,>=1.21.1 in /usr/local/lib/python3.10/dist-packages (from requests[socks]->gdown==4.6.3) (2.0.7)\n",
            "Requirement already satisfied: certifi>=2017.4.17 in /usr/local/lib/python3.10/dist-packages (from requests[socks]->gdown==4.6.3) (2023.11.17)\n",
            "Requirement already satisfied: PySocks!=1.5.7,>=1.5.6 in /usr/local/lib/python3.10/dist-packages (from requests[socks]->gdown==4.6.3) (1.7.1)\n",
            "Downloading...\n",
            "From: https://drive.google.com/uc?id=1Osmr7qVN0NMuqYxvLesNn7H4nqPCVbsU\n",
            "To: /content/data_berka.db\n",
            "100% 70.2M/70.2M [00:01<00:00, 63.6MB/s]\n"
          ]
        }
      ]
    },
    {
      "cell_type": "markdown",
      "source": [
        "Nos conectamos a la base de datos."
      ],
      "metadata": {
        "id": "Qlv0pVtCDedS"
      }
    },
    {
      "cell_type": "code",
      "source": [
        "%sql sqlite:///data_berka.db"
      ],
      "metadata": {
        "id": "ouXrmBhLDDX_"
      },
      "execution_count": 107,
      "outputs": []
    },
    {
      "cell_type": "markdown",
      "source": [
        "Comprobamos que tablas tiene cargada la base de datos."
      ],
      "metadata": {
        "id": "fHtLbj-yDdRM"
      }
    },
    {
      "cell_type": "code",
      "source": [
        "%%sql\n",
        "SELECT name FROM sqlite_master WHERE type='table' AND name NOT LIKE 'sqlite_%';"
      ],
      "metadata": {
        "colab": {
          "base_uri": "https://localhost:8080/",
          "height": 238
        },
        "id": "hUenKxx8DJBg",
        "outputId": "7b714a8e-9d2d-428a-9b3e-71208a311482"
      },
      "execution_count": 108,
      "outputs": [
        {
          "output_type": "stream",
          "name": "stdout",
          "text": [
            " * sqlite:///data_berka.db\n",
            "Done.\n"
          ]
        },
        {
          "output_type": "execute_result",
          "data": {
            "text/plain": [
              "[('DISTRICT',),\n",
              " ('ACCOUNT',),\n",
              " ('TRANS',),\n",
              " ('CLIENT',),\n",
              " ('DISPOSITION',),\n",
              " ('CREDIT_CARD',),\n",
              " ('LOAN',),\n",
              " ('PERMANENT_ORDER',)]"
            ],
            "text/html": [
              "<table>\n",
              "    <thead>\n",
              "        <tr>\n",
              "            <th>name</th>\n",
              "        </tr>\n",
              "    </thead>\n",
              "    <tbody>\n",
              "        <tr>\n",
              "            <td>DISTRICT</td>\n",
              "        </tr>\n",
              "        <tr>\n",
              "            <td>ACCOUNT</td>\n",
              "        </tr>\n",
              "        <tr>\n",
              "            <td>TRANS</td>\n",
              "        </tr>\n",
              "        <tr>\n",
              "            <td>CLIENT</td>\n",
              "        </tr>\n",
              "        <tr>\n",
              "            <td>DISPOSITION</td>\n",
              "        </tr>\n",
              "        <tr>\n",
              "            <td>CREDIT_CARD</td>\n",
              "        </tr>\n",
              "        <tr>\n",
              "            <td>LOAN</td>\n",
              "        </tr>\n",
              "        <tr>\n",
              "            <td>PERMANENT_ORDER</td>\n",
              "        </tr>\n",
              "    </tbody>\n",
              "</table>"
            ]
          },
          "metadata": {},
          "execution_count": 108
        }
      ]
    },
    {
      "cell_type": "markdown",
      "source": [
        "**Problema 1**\n",
        "\n",
        "La consulta o consultas necesarias para obtener los siguientes datos:\n",
        "\n",
        "1. Seleccionar a los clientes con préstamos finalizados y tarjeta de crédito.\n",
        "\n",
        "Para cada uno de ellos se necesita la siguiente información:\n",
        "\n",
        "• Año de nacimiento del cliente\n",
        "\n",
        "• Datos geográficos del cliente (se pueden elegir libremente)\n",
        "\n",
        "• Datos relevantes del préstamo (cantidad, duración, pagos)\n",
        "\n",
        "• Información procedente de la tabla de transacciones (opcional).\n",
        "\n",
        "• Tipo de tarjeta de crédito que tiene el cliente"
      ],
      "metadata": {
        "id": "oi0wukGuBdi_"
      }
    },
    {
      "cell_type": "code",
      "source": [
        "%%sql clientes <<\n",
        "SELECT\n",
        "    c.client_id,\n",
        "    SUBSTRING(c.birth_number, 1, 2) AS birth_year,\n",
        "    d.A2 AS nombre_distrito,\n",
        "    d.A3 AS region,\n",
        "    l.amount AS cantidad_prestamo,\n",
        "    l.duration AS duracion_prestamo,\n",
        "    l.payments AS pagos_mensuales,\n",
        "    cc.type AS tipo_tarjeta_credito\n",
        "    FROM\n",
        "    client c\n",
        "JOIN\n",
        "    disposition dp ON c.client_id = dp.client_id\n",
        "JOIN\n",
        "    account a ON dp.account_id = a.account_id\n",
        "JOIN\n",
        "    district d ON a.district_id = d.A1\n",
        "LEFT JOIN\n",
        "    loan l ON a.account_id = l.account_id AND l.status = 'A'\n",
        "LEFT JOIN\n",
        "    credit_card cc ON a.account_id = cc.disp_id\n",
        "WHERE\n",
        "    l.loan_id IS NOT NULL\n",
        "    AND cc.card_id IS NOT NULL;"
      ],
      "metadata": {
        "colab": {
          "base_uri": "https://localhost:8080/"
        },
        "id": "9orwqIwVCwnP",
        "outputId": "feb6b90c-0298-4e74-ac1c-78d4d0b0baf0"
      },
      "execution_count": 109,
      "outputs": [
        {
          "output_type": "stream",
          "name": "stdout",
          "text": [
            " * sqlite:///data_berka.db\n",
            "Done.\n",
            "Returning data to local variable clientes\n"
          ]
        }
      ]
    },
    {
      "cell_type": "markdown",
      "source": [
        "Información procedente de la tabla de transacciones (opcional):"
      ],
      "metadata": {
        "id": "wUNq6Q6MObYj"
      }
    },
    {
      "cell_type": "code",
      "source": [
        "%%sql\n",
        "select trans_id, t.date, type, operation, amount, balance\n",
        "FROM trans t JOIN account a ON  t.account_id = a.account_id\n",
        "             JOIN district d ON a.district_id = d.A1\n",
        "LIMIT 10"
      ],
      "metadata": {
        "colab": {
          "base_uri": "https://localhost:8080/",
          "height": 280
        },
        "id": "M7AkOTthPDaC",
        "outputId": "3c80d206-e5ce-4e23-a8fe-d05e96393a5d"
      },
      "execution_count": 110,
      "outputs": [
        {
          "output_type": "stream",
          "name": "stdout",
          "text": [
            " * sqlite:///data_berka.db\n",
            "Done.\n"
          ]
        },
        {
          "output_type": "execute_result",
          "data": {
            "text/plain": [
              "[(695247, 930101, 'PRIJEM', 'VKLAD', 700.0, 700.0),\n",
              " (171812, 930101, 'PRIJEM', 'VKLAD', 900.0, 900.0),\n",
              " (207264, 930101, 'PRIJEM', 'VKLAD', 1000.0, 1000.0),\n",
              " (1117247, 930101, 'PRIJEM', 'VKLAD', 600.0, 600.0),\n",
              " (579373, 930102, 'PRIJEM', 'VKLAD', 400.0, 400.0),\n",
              " (771035, 930102, 'PRIJEM', 'VKLAD', 1100.0, 1100.0),\n",
              " (452728, 930103, 'PRIJEM', 'VKLAD', 600.0, 600.0),\n",
              " (725751, 930103, 'PRIJEM', 'VKLAD', 1100.0, 1100.0),\n",
              " (497211, 930103, 'PRIJEM', 'VKLAD', 200.0, 200.0),\n",
              " (232960, 930103, 'PRIJEM', 'VKLAD', 800.0, 800.0)]"
            ],
            "text/html": [
              "<table>\n",
              "    <thead>\n",
              "        <tr>\n",
              "            <th>trans_id</th>\n",
              "            <th>date</th>\n",
              "            <th>type</th>\n",
              "            <th>operation</th>\n",
              "            <th>amount</th>\n",
              "            <th>balance</th>\n",
              "        </tr>\n",
              "    </thead>\n",
              "    <tbody>\n",
              "        <tr>\n",
              "            <td>695247</td>\n",
              "            <td>930101</td>\n",
              "            <td>PRIJEM</td>\n",
              "            <td>VKLAD</td>\n",
              "            <td>700.0</td>\n",
              "            <td>700.0</td>\n",
              "        </tr>\n",
              "        <tr>\n",
              "            <td>171812</td>\n",
              "            <td>930101</td>\n",
              "            <td>PRIJEM</td>\n",
              "            <td>VKLAD</td>\n",
              "            <td>900.0</td>\n",
              "            <td>900.0</td>\n",
              "        </tr>\n",
              "        <tr>\n",
              "            <td>207264</td>\n",
              "            <td>930101</td>\n",
              "            <td>PRIJEM</td>\n",
              "            <td>VKLAD</td>\n",
              "            <td>1000.0</td>\n",
              "            <td>1000.0</td>\n",
              "        </tr>\n",
              "        <tr>\n",
              "            <td>1117247</td>\n",
              "            <td>930101</td>\n",
              "            <td>PRIJEM</td>\n",
              "            <td>VKLAD</td>\n",
              "            <td>600.0</td>\n",
              "            <td>600.0</td>\n",
              "        </tr>\n",
              "        <tr>\n",
              "            <td>579373</td>\n",
              "            <td>930102</td>\n",
              "            <td>PRIJEM</td>\n",
              "            <td>VKLAD</td>\n",
              "            <td>400.0</td>\n",
              "            <td>400.0</td>\n",
              "        </tr>\n",
              "        <tr>\n",
              "            <td>771035</td>\n",
              "            <td>930102</td>\n",
              "            <td>PRIJEM</td>\n",
              "            <td>VKLAD</td>\n",
              "            <td>1100.0</td>\n",
              "            <td>1100.0</td>\n",
              "        </tr>\n",
              "        <tr>\n",
              "            <td>452728</td>\n",
              "            <td>930103</td>\n",
              "            <td>PRIJEM</td>\n",
              "            <td>VKLAD</td>\n",
              "            <td>600.0</td>\n",
              "            <td>600.0</td>\n",
              "        </tr>\n",
              "        <tr>\n",
              "            <td>725751</td>\n",
              "            <td>930103</td>\n",
              "            <td>PRIJEM</td>\n",
              "            <td>VKLAD</td>\n",
              "            <td>1100.0</td>\n",
              "            <td>1100.0</td>\n",
              "        </tr>\n",
              "        <tr>\n",
              "            <td>497211</td>\n",
              "            <td>930103</td>\n",
              "            <td>PRIJEM</td>\n",
              "            <td>VKLAD</td>\n",
              "            <td>200.0</td>\n",
              "            <td>200.0</td>\n",
              "        </tr>\n",
              "        <tr>\n",
              "            <td>232960</td>\n",
              "            <td>930103</td>\n",
              "            <td>PRIJEM</td>\n",
              "            <td>VKLAD</td>\n",
              "            <td>800.0</td>\n",
              "            <td>800.0</td>\n",
              "        </tr>\n",
              "    </tbody>\n",
              "</table>"
            ]
          },
          "metadata": {},
          "execution_count": 110
        }
      ]
    },
    {
      "cell_type": "code",
      "source": [
        "df_clientes =  clientes.DataFrame()"
      ],
      "metadata": {
        "id": "D8UxGYKoD5YA"
      },
      "execution_count": 111,
      "outputs": []
    },
    {
      "cell_type": "code",
      "source": [
        "df_clientes.to_csv(\"clientes.csv\")"
      ],
      "metadata": {
        "id": "gVTdYcrTD90C"
      },
      "execution_count": 112,
      "outputs": []
    },
    {
      "cell_type": "markdown",
      "source": [
        "A continuación mostraremos las primeras filas del DataFrame:"
      ],
      "metadata": {
        "id": "irkln7CnE2Hl"
      }
    },
    {
      "cell_type": "code",
      "source": [
        "print(df_clientes.head())"
      ],
      "metadata": {
        "colab": {
          "base_uri": "https://localhost:8080/"
        },
        "id": "jsSo7PTvEroZ",
        "outputId": "58af1ed0-fd05-4baa-e034-aaf7587cc0af"
      },
      "execution_count": 113,
      "outputs": [
        {
          "output_type": "stream",
          "name": "stdout",
          "text": [
            "   client_id birth_year  nombre_distrito         region  cantidad_prestamo  \\\n",
            "0        158         45          Teplice  north Bohemia              88440   \n",
            "1        159         38          Teplice  north Bohemia              88440   \n",
            "2        798         40      Plzen - jih   west Bohemia              12540   \n",
            "3        799         36      Plzen - jih   west Bohemia              12540   \n",
            "4        980         61  Usti nad Orlici   east Bohemia              48624   \n",
            "\n",
            "   duracion_prestamo  pagos_mensuales tipo_tarjeta_credito  \n",
            "0                 12             7370              classic  \n",
            "1                 12             7370              classic  \n",
            "2                 12             1045               junior  \n",
            "3                 12             1045               junior  \n",
            "4                 24             2026              classic  \n"
          ]
        }
      ]
    },
    {
      "cell_type": "markdown",
      "source": [
        "**Problema 3**\n",
        "\n",
        "Realizar un arbol de decisión con el fin de resolver el problema de predecir la tarjeta de crédito que va a contratar un cliente a partir de los datos\n",
        "obtenidos del Problema 1 ."
      ],
      "metadata": {
        "id": "aIm8GLLOF6aE"
      }
    },
    {
      "cell_type": "markdown",
      "source": [
        "Para realizar el árbol de decisión cargaremos los datos desde el archivo CSV. A continuación, analizaremos las variables predictoras y la variable ojetivo y dividiremos el conjunto de datos en entrenamiento y prueba. Finalmente, crearemos el modelo de árbol de decisión y lo visualizaremos:\n",
        "\n",
        "\n"
      ],
      "metadata": {
        "id": "eWnl8pSbHQVD"
      }
    },
    {
      "cell_type": "code",
      "source": [
        "import pandas as pd\n",
        "from sklearn.model_selection import train_test_split\n",
        "from sklearn.tree import DecisionTreeClassifier, plot_tree\n",
        "import matplotlib.pyplot as plt\n",
        "\n",
        "df_clientes = pd.read_csv(\"clientes.csv\")\n",
        "X = df_clientes.drop(['tipo_tarjeta_credito', 'nombre_distrito', 'region'], axis=1)\n",
        "y = df_clientes['tipo_tarjeta_credito']\n",
        "X_train, X_test, y_train, y_test = train_test_split(X, y, test_size=0.2, random_state=42)\n",
        "modelo_arbol = DecisionTreeClassifier(random_state=42)\n",
        "modelo_arbol.fit(X_train, y_train)\n",
        "plt.figure(figsize=(15, 10))\n",
        "plot_tree(modelo_arbol, feature_names=X.columns, class_names=modelo_arbol.classes_, filled=True, rounded=True, fontsize=10)\n",
        "plt.show()"
      ],
      "metadata": {
        "colab": {
          "base_uri": "https://localhost:8080/",
          "height": 807
        },
        "id": "i44e7Sg9HOji",
        "outputId": "325f6f28-bd27-4875-c232-68b4682ca186"
      },
      "execution_count": 121,
      "outputs": [
        {
          "output_type": "display_data",
          "data": {
            "text/plain": [
              "<Figure size 1500x1000 with 1 Axes>"
            ],
            "image/png": "[encoded data removed]"
          },
          "metadata": {}
        }
      ]
    },
    {
      "cell_type": "markdown",
      "source": [
        "**cantidad_prestamo** es la característica principal que se utiliza para realizar las divisiones. La estructura del árbol reflejará cómo esta característica específica contribuye a la toma de decisiones en cada nivel del árbol."
      ],
      "metadata": {
        "id": "nCBXOKV8KgV7"
      }
    },
    {
      "cell_type": "markdown",
      "source": [
        "Los nodos y ramas más cercanos a las hojas que tienen muestras (samples) muy pequeñas y contribuyen poco a la clasificación podrían considerarse menos relevantes."
      ],
      "metadata": {
        "id": "ehuHYLEmKroq"
      }
    }
  ]
}